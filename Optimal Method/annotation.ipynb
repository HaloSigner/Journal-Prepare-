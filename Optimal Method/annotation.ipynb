{
 "cells": [
  {
   "cell_type": "code",
   "execution_count": 19,
   "metadata": {},
   "outputs": [],
   "source": [
    "import pandas as pd\n",
    "from rapidfuzz import process"
   ]
  },
  {
   "cell_type": "code",
   "execution_count": 25,
   "metadata": {},
   "outputs": [],
   "source": [
    "def correct_typo(value):\n",
    "    if pd.isnull(value):\n",
    "        return None\n",
    "    match, score, _ = process.extractOne(value, reference, score_cutoff=90)\n",
    "    return match if match else value"
   ]
  },
  {
   "cell_type": "code",
   "execution_count": 5,
   "metadata": {},
   "outputs": [],
   "source": [
    "dna = pd.read_excel('DNA_Damage.xlsx', index_col=0)"
   ]
  },
  {
   "cell_type": "code",
   "execution_count": 8,
   "metadata": {},
   "outputs": [
    {
     "name": "stdout",
     "output_type": "stream",
     "text": [
      "Targetable compounds : 1073\n"
     ]
    }
   ],
   "source": [
    "print(f'Targetable compounds : {dna.shape[0]}')"
   ]
  },
  {
   "cell_type": "code",
   "execution_count": 12,
   "metadata": {},
   "outputs": [
    {
     "name": "stdout",
     "output_type": "stream",
     "text": [
      "Unique MOA: 352\n"
     ]
    }
   ],
   "source": [
    "print(f'Unique MOA: {len(dna.drop_duplicates(subset=\"MOA\"))}')"
   ]
  },
  {
   "cell_type": "code",
   "execution_count": 15,
   "metadata": {},
   "outputs": [
    {
     "name": "stdout",
     "output_type": "stream",
     "text": [
      "Phase distribution......\n",
      "\n"
     ]
    }
   ],
   "source": [
    "print(f'Phase distribution......\\n')"
   ]
  },
  {
   "cell_type": "code",
   "execution_count": 29,
   "metadata": {},
   "outputs": [],
   "source": [
    "# Typo Correction\n",
    "reference = ['Launched', 'Preclinical', 'Phase 1', 'Phase 2', 'Phase 3', 'Withdrawn', 'Phase 2/Phase 3', 'Phase 1/Phase 2']\n",
    "\n",
    "dna['Phase_c'] = dna['Phase'].apply(correct_typo)"
   ]
  },
  {
   "cell_type": "code",
   "execution_count": 30,
   "metadata": {},
   "outputs": [
    {
     "data": {
      "text/plain": [
       "array(['Launched', 'Preclinical', None, 'Phase 1', 'Phase 3', 'Withdrawn',\n",
       "       'Phase 2', 'Phase 2/Phase 3', 'Phase 1/Phase 2'], dtype=object)"
      ]
     },
     "execution_count": 30,
     "metadata": {},
     "output_type": "execute_result"
    }
   ],
   "source": []
  }
 ],
 "metadata": {
  "kernelspec": {
   "display_name": "deep",
   "language": "python",
   "name": "python3"
  },
  "language_info": {
   "codemirror_mode": {
    "name": "ipython",
    "version": 3
   },
   "file_extension": ".py",
   "mimetype": "text/x-python",
   "name": "python",
   "nbconvert_exporter": "python",
   "pygments_lexer": "ipython3",
   "version": "3.9.20"
  }
 },
 "nbformat": 4,
 "nbformat_minor": 2
}
