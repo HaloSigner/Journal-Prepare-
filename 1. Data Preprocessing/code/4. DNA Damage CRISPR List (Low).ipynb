{
 "cells": [
  {
   "cell_type": "markdown",
   "id": "38f7f3e8-2dc2-43fd-9b73-7ecd772ae575",
   "metadata": {},
   "source": [
    "## Load IDR-0080 Data & Cell Health Data\n",
    "# Reference : https://pubmed.ncbi.nlm.nih.gov/33534641/"
   ]
  },
  {
   "cell_type": "code",
   "execution_count": 2,
   "id": "b00d5307-d57d-4a0b-9102-b98ae318fcdd",
   "metadata": {},
   "outputs": [],
   "source": [
    "import pandas as pd\n",
    "import numpy as np\n",
    "x_df = pd.read_csv('cell_painting_modz.tsv', sep = '\\t')\n",
    "x_meta = x_df.iloc[:, :3]\n",
    "x_df = x_df.iloc[:, 3:]\n",
    "\n",
    "y_all_df = pd.read_csv('cell_health_modz.tsv', sep = '\\t')\n",
    "y_df = y_all_df['cc_all_n_spots_h2ax_per_nucleus_area_mean']"
   ]
  },
  {
   "cell_type": "code",
   "execution_count": 3,
   "id": "e19f6f9b-89d2-48f6-8331-7a1cae1feb9b",
   "metadata": {},
   "outputs": [
    {
     "name": "stdout",
     "output_type": "stream",
     "text": [
      "48     3.830638\n",
      "140    3.552364\n",
      "146    3.074456\n",
      "4      3.065773\n",
      "147    3.041404\n",
      "         ...   \n",
      "181   -1.625585\n",
      "177   -1.823760\n",
      "304   -2.135111\n",
      "178   -2.640643\n",
      "305   -2.816895\n",
      "Name: cc_all_n_spots_h2ax_per_nucleus_area_mean, Length: 357, dtype: float64\n",
      "\n",
      "DNA Damaged Label CRISPR Gene.....\n",
      "\n",
      "Number of CRISPR Gene : 306\n",
      "Number of unique CRISPR Gene : 59\n"
     ]
    },
    {
     "data": {
      "text/plain": [
       "{'AKT1',\n",
       " 'ARID1B',\n",
       " 'ATF4',\n",
       " 'ATP50',\n",
       " 'AURKB',\n",
       " 'BCL2',\n",
       " 'BCL2L2',\n",
       " 'BRAF',\n",
       " 'BRAF1',\n",
       " 'BRCA1',\n",
       " 'BRD4',\n",
       " 'CCND1',\n",
       " 'CCNE1',\n",
       " 'CDK2',\n",
       " 'CDK4',\n",
       " 'CHEK2',\n",
       " 'COX5B',\n",
       " 'CSNK1A1',\n",
       " 'CTNNB1',\n",
       " 'Chr2',\n",
       " 'DOT1L',\n",
       " 'EGFR',\n",
       " 'EGLN1',\n",
       " 'EMPTY',\n",
       " 'ERBB2',\n",
       " 'ERBB3',\n",
       " 'EZH2',\n",
       " 'GLS',\n",
       " 'GPX4',\n",
       " 'HIF1a',\n",
       " 'ITGAV',\n",
       " 'JAK3',\n",
       " 'KIF11',\n",
       " 'KRAS',\n",
       " 'LacZ',\n",
       " 'Luc',\n",
       " 'MAPK1',\n",
       " 'MCL1',\n",
       " 'MTOR',\n",
       " 'MYC',\n",
       " 'ORC4',\n",
       " 'PIK3CA',\n",
       " 'POLR2D',\n",
       " 'PPIB',\n",
       " 'PRDX1',\n",
       " 'PSMA1',\n",
       " 'PTK2',\n",
       " 'RAC1',\n",
       " 'RAF1',\n",
       " 'RHOA',\n",
       " 'SDHB',\n",
       " 'SLC2A1',\n",
       " 'SLC2A2',\n",
       " 'SMARCB1',\n",
       " 'STAT3',\n",
       " 'SUZ12',\n",
       " 'TXN',\n",
       " 'XBP',\n",
       " 'YAP1'}"
      ]
     },
     "execution_count": 3,
     "metadata": {},
     "output_type": "execute_result"
    }
   ],
   "source": [
    "print(y_df.sort_values(ascending = False))\n",
    "\n",
    "list = y_df[y_df < 0.970800566691554] # Label cutoff\n",
    "\n",
    "pert_list = []\n",
    "print('\\nDNA Damaged Label CRISPR Gene.....\\n')\n",
    "for k in list.index:\n",
    "    pert_list.append(x_meta['Metadata_pert_name'][x_meta.index == k].tolist())\n",
    "\n",
    "print(f'Number of CRISPR Gene : {len(pert_list)}')\n",
    "\n",
    "pert_list = [item for sublist in pert_list for item in sublist]\n",
    "\n",
    "proce_list = [item.split('-')[0] for item in pert_list]\n",
    "print(f'Number of unique CRISPR Gene : {len(set(proce_list))}')\n",
    "set(proce_list)"
   ]
  }
 ],
 "metadata": {
  "kernelspec": {
   "display_name": "Python 3 (ipykernel)",
   "language": "python",
   "name": "python3"
  },
  "language_info": {
   "codemirror_mode": {
    "name": "ipython",
    "version": 3
   },
   "file_extension": ".py",
   "mimetype": "text/x-python",
   "name": "python",
   "nbconvert_exporter": "python",
   "pygments_lexer": "ipython3",
   "version": "3.9.20"
  }
 },
 "nbformat": 4,
 "nbformat_minor": 5
}
